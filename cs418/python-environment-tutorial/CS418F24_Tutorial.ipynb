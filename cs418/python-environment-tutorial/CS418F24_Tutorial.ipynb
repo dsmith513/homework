{
 "cells": [
  {
   "cell_type": "markdown",
   "metadata": {
    "id": "RxbfV6FuYdle"
   },
   "source": [
    "We will use Python for the coding parts of all assignments and exams. This tutorial will include a brief Python programming language introduction and other useful python libraries (numpy, panda, matplotlib and scipy). "
   ]
  },
  {
   "cell_type": "markdown",
   "metadata": {
    "id": "BcS2ftcpZbEr"
   },
   "source": [
    "# 01 Environments\n",
    "\n",
    "We will provide the started codes in notebooks, so we recommend to write and execute python code in Jupyter notebooks. \n",
    "\n",
    "**Run Jupyter notebook locally:** \n",
    "1. We strongly recommend using [Anaconda Distribution](https://www.anaconda.com/products/distribution), which provides an easy way to install packages and speed up numpy or scipy codes by default environment.\n",
    "2. After installed, if you wish to create a virtual environment for all codes in this course, run the command: `conda create -n <env_name> python=3.12.4` where `<env_name>` can be `cs418-fa24`. To activate and enter the environment, run the command: `conda activate <env_name>`\n",
    "3. Then run `conda install notebook` to install Jupyter notebook. If you wish to open notebook via command, then run `jupyter notebook` in the terminal. Or you can install [Anaconda Navigator](https://docs.anaconda.com/anaconda/navigator/) to use interface to start Jupyter Notebook server at `http://localhost:8888` in your favoriate web browser. \n",
    "4. Alternatively, I suggest using Visual Studio Code as the editor as it can open Jupyter notebooks with an extension and gives you access to terminal simultaneously in which case you do not need to use a web browser at all. In fact, you will be able to choose the conda environment that you created in Step 2 by clicking on \"Select Kernel\" on Top Right corner (on MacOS) to conveniently choose your environment as opposed to remembering the name of the environment that you had created.\n",
    "\n",
    "Note: Python version is not required as 3.12.4. See this [page](https://docs.conda.io/projects/conda/en/latest/user-guide/tasks/manage-environments.html) for more virtual enviroments details. If you would like to use Jupyter notebook in visual studio code, please see details [here](https://code.visualstudio.com/docs/datascience/jupyter-notebooks). \n",
    "\n",
    "**Run [Colab](https://colab.research.google.com/) notebooks(Free):**\n",
    "If you have difficulties to set up local environments or package dependencies, you can use Google Colab to run Jupyter notebooks in the cloud. You can upload local files and download your edit codes to local machine for assignment submissions via Colab.\n"
   ]
  },
  {
   "cell_type": "markdown",
   "metadata": {
    "id": "cpzcuilgijWy"
   },
   "source": [
    "# Optional : Python Introduction\n"
   ]
  },
  {
   "cell_type": "markdown",
   "metadata": {
    "id": "dvRqkYVDjBwc"
   },
   "source": [
    "## Variables and Printing\n",
    "In Python, types of variables are automatically inferred by the interpreter"
   ]
  },
  {
   "cell_type": "code",
   "execution_count": null,
   "metadata": {
    "colab": {
     "base_uri": "https://localhost:8080/"
    },
    "id": "fK9zgskvjIde",
    "outputId": "35408356-2250-45a2-dc38-1046785ac546"
   },
   "outputs": [],
   "source": [
    "# Let's keep error messages very short\n",
    "%xmode minimal\n",
    "\n",
    "school = \"Computer Science\" # creates a string\n",
    "number = 446       \n",
    "pi = 3.141        \n",
    "\n",
    "# Print Statements\n",
    "print(\"department:\", school)\n",
    "print(\"number:\", number)\n",
    "print(\"pi:\", pi)\n",
    "\n",
    "print(type(school), type(number), type(pi))"
   ]
  },
  {
   "cell_type": "markdown",
   "metadata": {
    "id": "ufZ_E2s2jmDT"
   },
   "source": [
    "## Containers\n",
    "Python includes several built-in container types: lists, dictionaries, sets, and tuples."
   ]
  },
  {
   "cell_type": "markdown",
   "metadata": {
    "id": "M8ZnE1majr1i"
   },
   "source": [
    "### Lists\n",
    "A list is the Python equivalent of an array, but is resizeable and can contain elements of different types:"
   ]
  },
  {
   "cell_type": "code",
   "execution_count": null,
   "metadata": {
    "colab": {
     "base_uri": "https://localhost:8080/"
    },
    "id": "WzuPKbbgjuPP",
    "outputId": "43ed8984-5978-4582-cf85-641b66999dd4"
   },
   "outputs": [],
   "source": [
    "fruit = ['apple', 'pear', 'tomato', 'avocado']\n",
    "print(fruit)\n",
    "print(fruit[0])\n",
    "print(fruit[-2]) # specifies the element two spots from the end\n",
    "print(fruit[1:3]) # can index multiple items [start, end]\n",
    "print(fruit[:-1]) # Slice indices can be negative; prints all in this case \"[0, 1, 2, 3]\"\n",
    "fruit[3] = 'salmon' # can assign items in list\n",
    "\n",
    "print(fruit)"
   ]
  },
  {
   "cell_type": "code",
   "execution_count": null,
   "metadata": {
    "colab": {
     "base_uri": "https://localhost:8080/"
    },
    "id": "iU_JCp7qjxYB",
    "outputId": "b6458f1d-ab62-42d4-8d04-3adb6a906dfa"
   },
   "outputs": [],
   "source": [
    "print(len(fruit)) # this is the length of the list\n",
    "print('pear' in fruit) # can check for existence in a list (\"contains()\")"
   ]
  },
  {
   "cell_type": "code",
   "execution_count": null,
   "metadata": {
    "colab": {
     "base_uri": "https://localhost:8080/"
    },
    "id": "jh1o5V6Ljy5z",
    "outputId": "9b0d7dac-674f-4486-e730-93feb4f4aeb9"
   },
   "outputs": [],
   "source": [
    "fruit.append('trout') # you can add elements to a list\n",
    "\n",
    "print(fruit)\n",
    "print(len(fruit))"
   ]
  },
  {
   "cell_type": "markdown",
   "metadata": {
    "id": "OpVr8gN9kIaS"
   },
   "source": [
    "### Dictionaries\n",
    "A dictionary stores (key, value) pairs, similar to a Map in Java or an object in Javascript. You can use it like this:"
   ]
  },
  {
   "cell_type": "code",
   "execution_count": null,
   "metadata": {
    "colab": {
     "base_uri": "https://localhost:8080/"
    },
    "id": "3BcVGniUkKPT",
    "outputId": "9b199614-f20c-4bea-e1c6-b492777b88a5"
   },
   "outputs": [],
   "source": [
    "d = {'apple': 'red', 'avocado': 'green'}  # Create a new dictionary with some data\n",
    "print(d['apple'])       # Get an entry from a dictionary; prints \"red\"\n",
    "print('apple' in d)     # Check if a dictionary has a given key; prints \"True\"\n",
    "d['pear'] = 'green'     # Set an entry in a dictionary\n",
    "print(d['pear'])      # Prints \"green\"\n",
    "# print(d['tomato'])  # KeyError: 'tomato' not a key of d\n",
    "print(d.get('tomato', 'N/A'))  # Get an element with a default; prints \"N/A\"\n",
    "print(d.get('pear', 'N/A'))    # Get an element with a default; prints \"green\"\n",
    "del d['avocado']         # Remove an element from a dictionary\n",
    "print(d.get('avocado', 'N/A')) # \"avocado\" is no longer a key; prints \"N/A\""
   ]
  },
  {
   "cell_type": "markdown",
   "metadata": {
    "id": "agypmOhUkTR6"
   },
   "source": [
    "### Sets\n",
    "A set is an unordered collection of distinct elements. As a simple example, consider the following:"
   ]
  },
  {
   "cell_type": "code",
   "execution_count": null,
   "metadata": {
    "colab": {
     "base_uri": "https://localhost:8080/"
    },
    "id": "-6G9DCbkkU1h",
    "outputId": "a486f529-12c6-4b4b-a43b-1fa777a3d109"
   },
   "outputs": [],
   "source": [
    "fruits = {'apple', 'avocado'}\n",
    "print('apple' in fruits)   # Check if an element is in a set; prints \"True\"\n",
    "print('pear' in fruits)  # prints \"False\"\n",
    "fruits.add('pear')       # Add an element to a set\n",
    "print('pear' in fruits)  # Prints \"True\"\n",
    "print(len(fruits))       # Number of elements in a set; prints \"3\"\n",
    "fruits.add('apple')        # Adding an element that is already in the set does nothing\n",
    "print(len(fruits))       # Prints \"3\"\n",
    "fruits.remove('apple')     # Remove an element from a set\n",
    "print(len(fruits))       # Prints \"2\""
   ]
  },
  {
   "cell_type": "markdown",
   "metadata": {
    "id": "VgBkdwxvlPjv"
   },
   "source": [
    "### Tuples\n",
    "A tuple is an (immutable) ordered list of values. Tuples are a useful way to pack small amounts of data"
   ]
  },
  {
   "cell_type": "code",
   "execution_count": null,
   "metadata": {
    "colab": {
     "base_uri": "https://localhost:8080/"
    },
    "id": "lI4seJFdlVvX",
    "outputId": "40519a62-9844-41c6-d037-63ee92f30eff"
   },
   "outputs": [],
   "source": [
    "tupperware = (1,2,3)\n",
    "print(tupperware)\n",
    "print(tupperware[1])\n",
    "a, b, c = tupperware # can 'unpack' tuples\n",
    "_, d, _ = tupperware # ignore the elements you don't care about\n",
    "print(c)\n",
    "print(d)"
   ]
  },
  {
   "cell_type": "code",
   "execution_count": null,
   "metadata": {
    "id": "GjfpA7h3lW0z"
   },
   "outputs": [],
   "source": [
    "#tupperware[1] = 4 # cannot modify tuples "
   ]
  },
  {
   "cell_type": "markdown",
   "metadata": {
    "id": "quV2WSOejOWN"
   },
   "source": [
    "## Math operations"
   ]
  },
  {
   "cell_type": "code",
   "execution_count": null,
   "metadata": {
    "colab": {
     "base_uri": "https://localhost:8080/"
    },
    "id": "yLGkJnPSjSkA",
    "outputId": "f73b5318-6c5c-46f2-86bc-d0bf728bb609"
   },
   "outputs": [],
   "source": [
    "a = 13\n",
    "b = 4\n",
    "\n",
    "print(a + b)\n",
    "print(a / b) # floating point division\n",
    "print(a // b) # integer division\n",
    "print(b**2) # powers are built-in"
   ]
  },
  {
   "cell_type": "markdown",
   "metadata": {
    "id": "pI8XB8rqjV7C"
   },
   "source": [
    "## Conditionals\n",
    "Python cares about whitespace! There are no brackets or end statements\n",
    "\n",
    "Instead of &&, ||, !, we use 'and', 'or', and 'not'.\n",
    "\n",
    "Boolean values are written as 'True' and 'False'"
   ]
  },
  {
   "cell_type": "code",
   "execution_count": null,
   "metadata": {
    "colab": {
     "base_uri": "https://localhost:8080/"
    },
    "id": "PInT3MkbjY2P",
    "outputId": "3139d45e-9b30-42ea-a55d-bf8f8b37be66"
   },
   "outputs": [],
   "source": [
    "a = 9.1\n",
    "b = 7\n",
    "\n",
    "# basic if else syntax\n",
    "if a < 10:\n",
    "    print('hello there!')\n",
    "else:\n",
    "    print('general kenobi')\n",
    "\n",
    "print('this always prints')"
   ]
  },
  {
   "cell_type": "code",
   "execution_count": null,
   "metadata": {
    "colab": {
     "base_uri": "https://localhost:8080/"
    },
    "id": "QBCwipCajcOC",
    "outputId": "d78c1015-684d-4013-c4e5-81c3a81cc1aa"
   },
   "outputs": [],
   "source": [
    "# and syntax\n",
    "if a < 10 and b > 5:\n",
    "    print('and')\n",
    "\n",
    "# or syntax\n",
    "if a > 10 or b > 5:\n",
    "    print('or')"
   ]
  },
  {
   "cell_type": "code",
   "execution_count": null,
   "metadata": {
    "colab": {
     "base_uri": "https://localhost:8080/"
    },
    "id": "YNc5k3swjdQC",
    "outputId": "d83c52b9-fa68-435e-c587-c850bf98dfea"
   },
   "outputs": [],
   "source": [
    "# else, else if syntax\n",
    "if False:\n",
    "    print('this never prints')\n",
    "elif a != b:\n",
    "    print('a != b')\n",
    "else:\n",
    "    print('else!')"
   ]
  },
  {
   "cell_type": "markdown",
   "metadata": {
    "id": "_5-FLj8xlg2v"
   },
   "source": [
    "## Loops\n",
    "\n",
    "Enumerate Function - https://www.geeksforgeeks.org/enumerate-in-python/\n",
    "\n",
    "Zip Function - https://www.w3schools.com/python/ref_func_zip.asp"
   ]
  },
  {
   "cell_type": "code",
   "execution_count": null,
   "metadata": {
    "colab": {
     "base_uri": "https://localhost:8080/"
    },
    "id": "RbZRnCMNllvL",
    "outputId": "9cfe4edd-bbe9-44e6-f01f-f309cac8d014"
   },
   "outputs": [],
   "source": [
    "# basic for loops\n",
    "for i in range(5):\n",
    "    print(i)\n",
    "    \n",
    "print()\n",
    "\n",
    "# can loop over any iterable\n",
    "for f in fruit:\n",
    "    print(f)"
   ]
  },
  {
   "cell_type": "code",
   "execution_count": null,
   "metadata": {
    "colab": {
     "base_uri": "https://localhost:8080/"
    },
    "id": "iMF4aafklnBm",
    "outputId": "a22d64d7-30b8-4862-9838-2487cb431510"
   },
   "outputs": [],
   "source": [
    "# advanced for loops\n",
    "for idx, item in enumerate(fruit):\n",
    "    print(idx, item)\n",
    "    \n",
    "print()\n",
    "\n",
    "a = [3, 1, 4, 1, 5]\n",
    "b = [2, 7, 1, 8, 2]\n",
    "\n",
    "for f, pi, e in zip(fruit, a, b):\n",
    "    print(f, pi, e)"
   ]
  },
  {
   "cell_type": "code",
   "execution_count": null,
   "metadata": {
    "colab": {
     "base_uri": "https://localhost:8080/"
    },
    "id": "JbYG5dThloyY",
    "outputId": "da7a4f8d-be5f-4174-fc65-87598d423ddf"
   },
   "outputs": [],
   "source": [
    "# while loops\n",
    "my_str = \"Ben\"\n",
    "\n",
    "while len(my_str) < 10:\n",
    "    my_str += ' 10'\n",
    "\n",
    "print(my_str)"
   ]
  },
  {
   "cell_type": "code",
   "execution_count": null,
   "metadata": {
    "colab": {
     "base_uri": "https://localhost:8080/"
    },
    "id": "VIuUUt3jlpuW",
    "outputId": "038ed494-878d-4015-93a3-d8affe60de25"
   },
   "outputs": [],
   "source": [
    "# A useful way to make lists is using list comprehensions\n",
    "a = [x**2 for x in range(10)]\n",
    "print(a)"
   ]
  },
  {
   "cell_type": "markdown",
   "metadata": {
    "id": "OXW6f2wAlrYj"
   },
   "source": [
    "## Functions + Classes\n",
    "Python functions are defined using the `def` keyword."
   ]
  },
  {
   "cell_type": "code",
   "execution_count": null,
   "metadata": {
    "colab": {
     "base_uri": "https://localhost:8080/"
    },
    "id": "Dn3ipgmll3E9",
    "outputId": "0b30aafb-e4d4-4b04-fdf7-19e05480a670"
   },
   "outputs": [],
   "source": [
    "# this is a function - I will expect most of your code to be in functions\n",
    "def square_this(x):\n",
    "    return x * x\n",
    "\n",
    "print(square_this(4))"
   ]
  },
  {
   "cell_type": "code",
   "execution_count": null,
   "metadata": {
    "colab": {
     "base_uri": "https://localhost:8080/"
    },
    "id": "WQY059Gnl3xT",
    "outputId": "5d925649-4dc2-446f-a051-6b690e5781f2"
   },
   "outputs": [],
   "source": [
    "# Classes are convenient ways to package several pieces of information together\n",
    "class Squaring:\n",
    "    \n",
    "    # this is the constructor\n",
    "    def __init__(self, a, b=4):\n",
    "        self._a = a\n",
    "        self._b = b\n",
    "    \n",
    "    # this is a method\n",
    "    def square(self, x):\n",
    "        return x * x\n",
    "    \n",
    "    # this is a static method\n",
    "    @staticmethod\n",
    "    def mymethod(x):\n",
    "        return x**3\n",
    "\n",
    "sq = Squaring(3)\n",
    "print('method:', sq.square(3))\n",
    "print('static method:', Squaring.mymethod(5))\n",
    "print('a:', sq._a)\n",
    "print('b:', sq._b)"
   ]
  },
  {
   "cell_type": "markdown",
   "metadata": {
    "id": "QJ97V9KAl8IG"
   },
   "source": [
    "# 02 Numpy\n",
    "[NumPy](https://numpy.org/) is the fundamental package for scientific computing in Python. It is a Python library that provides a multidimensional array object, various derived objects (such as masked arrays and matrices), and an assortment of routines for fast operations using C/C++ in the background.\n",
    "\n",
    "Note: please see [documents](https://numpy.org/install/) for installation."
   ]
  },
  {
   "cell_type": "markdown",
   "metadata": {
    "id": "31bw7HdomnhU"
   },
   "source": [
    "## Arrays\n",
    "A numpy array is a grid of values, all of the same type, and is indexed by a tuple of nonnegative integers. We can initialize numpy arrays from nested Python lists, and access elements similar to list."
   ]
  },
  {
   "cell_type": "code",
   "execution_count": null,
   "metadata": {
    "colab": {
     "base_uri": "https://localhost:8080/"
    },
    "id": "SJEuK2wUnKsL",
    "outputId": "a039a67e-07c8-45db-86e8-4dcc5aa79b76"
   },
   "outputs": [],
   "source": [
    "import numpy as np\n",
    "\n",
    "a = np.array([1,2,3,4,5])\n",
    "print(type(a))            # Prints \"<class 'numpy.ndarray'>\"\n",
    "print(a.shape)            # Prints \"(5,)\"\n",
    "print(a[0], a[1], a[2])   # Prints \"1 2 3\"\n",
    "\n",
    "b = np.array([5,4,3,2,1])\n",
    "c = a + b                 # can do elementwise operations\n",
    "print(c)\n",
    "print(a*b)\n",
    "print(a[3:5])             # can use same indexing as lists\n",
    "a[0] = 5                  # Change an element of the array\n",
    "print(a)                  # Prints \"[5,2,3,4,5]\""
   ]
  },
  {
   "cell_type": "markdown",
   "metadata": {
    "id": "4ahApMpjnsZ-"
   },
   "source": [
    "Numpy also provides many functions to create arrays:"
   ]
  },
  {
   "cell_type": "code",
   "execution_count": null,
   "metadata": {
    "colab": {
     "base_uri": "https://localhost:8080/"
    },
    "id": "Xw1UN7dtntpm",
    "outputId": "3d1be438-042f-4020-f53e-75852de20f6e"
   },
   "outputs": [],
   "source": [
    "a = np.zeros((2,2))   # Create an array of all zeros\n",
    "print(a)              # Prints \"[[ 0.  0.]\n",
    "                      #          [ 0.  0.]]\"\n",
    "\n",
    "b = np.ones((1,2))    # Create an array of all ones\n",
    "print(b)              # Prints \"[[ 1.  1.]]\"\n",
    "\n",
    "c = np.full((2,2), 7)  # Create a constant array\n",
    "print(c)               # Prints \"[[ 7.  7.]\n",
    "                       #          [ 7.  7.]]\"\n",
    "\n",
    "d = np.eye(2)         # Create a 2x2 identity matrix\n",
    "print(d)              # Prints \"[[ 1.  0.]\n",
    "                      #          [ 0.  1.]]\"\n",
    "\n",
    "e = np.random.random((2,2))  # Create an array filled with random values\n",
    "print(e)                     # Might print \"[[ 0.91940167  0.08143941]\n",
    "                             #               [ 0.68744134  0.87236687]]\""
   ]
  },
  {
   "cell_type": "markdown",
   "metadata": {
    "id": "zYZ9utPTn4w_"
   },
   "source": [
    "Note: see more Array creation [here](https://numpy.org/doc/stable/user/basics.creation.html#arrays-creation)"
   ]
  },
  {
   "cell_type": "markdown",
   "metadata": {
    "id": "m7EN84H9oRaD"
   },
   "source": [
    "##Array indexing\n",
    "Numpy offers several ways to index into arrays.\n",
    "\n",
    "Slicing: Similar to Python lists, numpy arrays can be sliced. Since arrays may be multidimensional, you must specify a slice for each dimension of the array:"
   ]
  },
  {
   "cell_type": "code",
   "execution_count": null,
   "metadata": {
    "colab": {
     "base_uri": "https://localhost:8080/"
    },
    "id": "b1jXROKaoNMd",
    "outputId": "60563da8-87fa-46b1-c66e-b84e14f605be"
   },
   "outputs": [],
   "source": [
    "A = np.array([[1,2], [3,4]]) # can create multidimensional arrays\n",
    "print(A)\n",
    "print(A.shape) # this specifies the number of rows and columns\n",
    "print(A[0]) # indexing into rows\n",
    "print(A[:,1]) # indexing into columns\n",
    "print(A[1,1], A[1][1]) # indexing into rows and columns\n",
    "print(A[:,1].T) \n",
    "print(np.shape(A[:,1]))"
   ]
  },
  {
   "cell_type": "code",
   "execution_count": null,
   "metadata": {
    "colab": {
     "base_uri": "https://localhost:8080/"
    },
    "id": "7BsapfE2oqu7",
    "outputId": "df4cc098-4021-4cd5-c9a9-b74959de665e"
   },
   "outputs": [],
   "source": [
    "a = np.array([[1,2], [3, 4], [5, 6]])\n",
    "\n",
    "# An example of integer array indexing.\n",
    "# The returned array will have shape (3,) and\n",
    "print(a[[0, 1, 2], [0, 1, 0]])  # Prints \"[1 4 5]\"\n",
    "\n",
    "# The above example of integer array indexing is equivalent to this:\n",
    "print(np.array([a[0, 0], a[1, 1], a[2, 0]]))  # Prints \"[1 4 5]\"\n",
    "\n",
    "# When using integer array indexing, you can reuse the same\n",
    "# element from the source array:\n",
    "print(a[[0, 0], [1, 1]])  # Prints \"[2 2]\"\n",
    "\n",
    "# Equivalent to the previous integer array indexing example\n",
    "print(np.array([a[0, 1], a[0, 1]]))  # Prints \"[2 2]\""
   ]
  },
  {
   "cell_type": "code",
   "execution_count": null,
   "metadata": {
    "colab": {
     "base_uri": "https://localhost:8080/"
    },
    "id": "lBcV5BIrowgm",
    "outputId": "a48efce8-5f48-4b13-99e3-56d9c965c3b2"
   },
   "outputs": [],
   "source": [
    "# Create a new array from which we will select elements\n",
    "a = np.array([[1,2,3], [4,5,6], [7,8,9], [10, 11, 12]])\n",
    "\n",
    "print(a)  # prints \"array([[ 1,  2,  3],\n",
    "          #                [ 4,  5,  6],\n",
    "          #                [ 7,  8,  9],\n",
    "          #                [10, 11, 12]])\"\n",
    "\n",
    "# Create an array of indices\n",
    "b = np.array([0, 2, 0, 1])\n",
    "\n",
    "# Select one element from each row of a using the indices in b\n",
    "print(a[np.arange(4), b])  # Prints \"[ 1  6  7 11]\"\n",
    "\n",
    "# Mutate one element from each row of a using the indices in b\n",
    "a[np.arange(4), b] += 10\n",
    "\n",
    "print(a)  # prints \"array([[11,  2,  3],\n",
    "          #                [ 4,  5, 16],\n",
    "          #                [17,  8,  9],\n",
    "          #                [10, 21, 12]])"
   ]
  },
  {
   "cell_type": "markdown",
   "metadata": {
    "id": "PS8q0jjWo9Hq"
   },
   "source": [
    "## Array operations\n",
    "Basic mathematical functions operate elementwise on arrays, and are available both as operator overloads and as functions in the numpy module:"
   ]
  },
  {
   "cell_type": "code",
   "execution_count": null,
   "metadata": {
    "colab": {
     "base_uri": "https://localhost:8080/"
    },
    "id": "jAYSQTWwpAhz",
    "outputId": "d5546e07-215c-40f4-f093-f3593f285764"
   },
   "outputs": [],
   "source": [
    "x = np.array([[1,2],[3,4]], dtype=np.float64)\n",
    "y = np.array([[5,6],[7,8]], dtype=np.float64)\n",
    "\n",
    "# Elementwise sum; both produce the array\n",
    "# [[ 6.0  8.0]\n",
    "#  [10.0 12.0]]\n",
    "print(x + y)\n",
    "print(np.add(x, y))\n",
    "\n",
    "# Elementwise difference; both produce the array\n",
    "# [[-4.0 -4.0]\n",
    "#  [-4.0 -4.0]]\n",
    "print(x - y)\n",
    "print(np.subtract(x, y))\n",
    "\n",
    "# Elementwise product; both produce the array\n",
    "# [[ 5.0 12.0]\n",
    "#  [21.0 32.0]]\n",
    "print(x * y)\n",
    "print(np.multiply(x, y))\n",
    "\n",
    "# Elementwise division; both produce the array\n",
    "# [[ 0.2         0.33333333]\n",
    "#  [ 0.42857143  0.5       ]]\n",
    "print(x / y)\n",
    "print(np.divide(x, y))\n",
    "\n",
    "# Elementwise square root; produces the array\n",
    "# [[ 1.          1.41421356]\n",
    "#  [ 1.73205081  2.        ]]\n",
    "print(np.sqrt(x))"
   ]
  },
  {
   "cell_type": "code",
   "execution_count": null,
   "metadata": {
    "colab": {
     "base_uri": "https://localhost:8080/"
    },
    "id": "J4psodQXpsUC",
    "outputId": "946fe078-1f76-496b-e91a-632a355ce443"
   },
   "outputs": [],
   "source": [
    "# matrices\n",
    "A = np.array([[1,2],[3,4]])\n",
    "B = np.array([[1, 0],[0, 1]]) # identity matrix (same as np.eye(2))\n",
    "\n",
    "print(A + B)\n",
    "print()\n",
    "print(A @ B)#@ is matrix multiplication \n",
    "print(A * B)#* is elementwise multiplication. You probably don't mean this"
   ]
  },
  {
   "cell_type": "code",
   "execution_count": null,
   "metadata": {
    "colab": {
     "base_uri": "https://localhost:8080/"
    },
    "id": "W31HA30zptS8",
    "outputId": "d856646d-5f3b-4572-e09e-605fd3b1f3c6"
   },
   "outputs": [],
   "source": [
    "x = np.array([[1,2],[3,4]])\n",
    "y = np.array([[5,6],[7,8]])\n",
    "\n",
    "v = np.array([9,10])\n",
    "w = np.array([11, 12])\n",
    "\n",
    "# Inner product of vectors; both produce 219\n",
    "print(v.dot(w))\n",
    "print(np.dot(v, w))\n",
    "\n",
    "# Matrix / vector product; both produce the rank 1 array [29 67]\n",
    "print(x.dot(v))\n",
    "print(np.dot(x, v))\n",
    "\n",
    "# Matrix / matrix product; both produce the rank 2 array\n",
    "# [[19 22]\n",
    "#  [43 50]]\n",
    "print(x.dot(y))\n",
    "print(np.dot(x, y))"
   ]
  },
  {
   "cell_type": "markdown",
   "metadata": {
    "id": "6qxh_EnhqCMt"
   },
   "source": [
    "Note: Numpy provides many mathematical functions, please see details [here](numpy.org/doc/stable/reference/routines.math.html)."
   ]
  },
  {
   "cell_type": "markdown",
   "metadata": {
    "id": "uuM7vu31qajM"
   },
   "source": [
    "We also frequently need to reshape or manipulate data in arrays. The most useful example is transposing a matrix. Please see other manipulating array functions [here](https://numpy.org/doc/stable/reference/routines.array-manipulation.html)."
   ]
  },
  {
   "cell_type": "code",
   "execution_count": null,
   "metadata": {
    "colab": {
     "base_uri": "https://localhost:8080/"
    },
    "id": "odYOeZ8Pq8sj",
    "outputId": "7521e34c-a40f-4c2b-de1c-1eed1a822b7f"
   },
   "outputs": [],
   "source": [
    "x = np.array([[1,2], [3,4]])\n",
    "print(x)    # Prints \"[[1 2]\n",
    "            #          [3 4]]\"\n",
    "print(x.T)  # Prints \"[[1 3]\n",
    "            #          [2 4]]\"\n",
    "\n",
    "# Note that taking the transpose of a rank 1 array does nothing:\n",
    "v = np.array([1,2,3])\n",
    "print(v)    # Prints \"[1 2 3]\"\n",
    "print(v.T)  # Prints \"[1 2 3]\""
   ]
  },
  {
   "cell_type": "markdown",
   "metadata": {
    "id": "h0KlKALbs4a1"
   },
   "source": [
    "# 03 Pandas\n",
    "Pandas is a fast, powerful, flexible and easy to use open source data analysis and manipulation tool, built on top of the Python programming language.\n",
    "\n",
    "Note: please see [documents](https://pandas.pydata.org/getting_started.html) for installation."
   ]
  },
  {
   "cell_type": "code",
   "execution_count": null,
   "metadata": {
    "colab": {
     "base_uri": "https://localhost:8080/"
    },
    "id": "35D7PlO-tL_b",
    "outputId": "0beefdfd-d97f-458c-a0c9-f846448a5dad"
   },
   "outputs": [],
   "source": [
    "import pandas as pd\n",
    "\n",
    "# How to create a series using pandas\n",
    "df = pd.Series([1, 2, 3, 4, 5], \n",
    "               index=['a', 'b', 'c', 'd', 'e'])\n",
    "print(df)"
   ]
  },
  {
   "cell_type": "code",
   "execution_count": null,
   "metadata": {
    "colab": {
     "base_uri": "https://localhost:8080/"
    },
    "id": "o-kRMQ7rtORk",
    "outputId": "0c5cf703-b8a7-4b3d-9c12-b90776d433e2"
   },
   "outputs": [],
   "source": [
    "# How to make a dataframe using pandas\n",
    "df = pd.DataFrame({\"a\" : [4 ,5, 6], \n",
    "                   \"b\" : [7, 8, 9], \n",
    "                   \"c\" : [10, 11, 12]}, \n",
    "                    index = [1, 2, 3])\n",
    "print(df)"
   ]
  },
  {
   "cell_type": "code",
   "execution_count": null,
   "metadata": {
    "colab": {
     "base_uri": "https://localhost:8080/",
     "height": 336
    },
    "id": "v4Q73_SKtPWc",
    "outputId": "efd659b1-8f5d-4e05-cb87-4a26b31fe0b4"
   },
   "outputs": [],
   "source": [
    "# How to read a .csv file\n",
    "df = pd.read_csv('elections.csv')"
   ]
  },
  {
   "cell_type": "code",
   "execution_count": null,
   "metadata": {
    "id": "n58VBGmsuirN"
   },
   "outputs": [],
   "source": [
    "df.shape"
   ]
  },
  {
   "cell_type": "code",
   "execution_count": null,
   "metadata": {
    "id": "lrb8NSaht1MQ"
   },
   "outputs": [],
   "source": [
    "print(df.info()) "
   ]
  },
  {
   "cell_type": "code",
   "execution_count": null,
   "metadata": {
    "id": "tcJzlfzdtQ0c"
   },
   "outputs": [],
   "source": [
    "# This will show the first 5 rows of your dataframe\n",
    "df.head()"
   ]
  },
  {
   "cell_type": "code",
   "execution_count": null,
   "metadata": {
    "id": "ciehopbWtRnY"
   },
   "outputs": [],
   "source": [
    "# This gives a statistical description of the data\n",
    "df.describe()"
   ]
  },
  {
   "cell_type": "code",
   "execution_count": null,
   "metadata": {
    "id": "BYsivduwtSkb"
   },
   "outputs": [],
   "source": [
    "# This randomly outputs 2 samples (try running it multiple times to see different results)\n",
    "df.sample(2)"
   ]
  },
  {
   "cell_type": "code",
   "execution_count": null,
   "metadata": {},
   "outputs": [],
   "source": [
    "elections = df.copy() #copy df as elections so it is easy to remember or interpret\n",
    "type(elections)"
   ]
  },
  {
   "cell_type": "markdown",
   "metadata": {},
   "source": [
    "Another CSV file"
   ]
  },
  {
   "cell_type": "code",
   "execution_count": null,
   "metadata": {},
   "outputs": [],
   "source": [
    "#mottos = pd.read_csv(\"/content/drive/My Drive/Colab Notebooks/mottos.csv\", index_col = \"State\") if using google collab\n",
    "mottos = pd.read_csv(\"mottos.csv\", index_col = \"State\")\n",
    "mottos"
   ]
  },
  {
   "cell_type": "markdown",
   "metadata": {},
   "source": [
    "## Indexing"
   ]
  },
  {
   "cell_type": "markdown",
   "metadata": {},
   "source": [
    "As a simple indexing example, consider the code below, which returns the first 5 rows of the DataFrame."
   ]
  },
  {
   "cell_type": "code",
   "execution_count": null,
   "metadata": {},
   "outputs": [],
   "source": [
    "elections.loc[0:4]"
   ]
  },
  {
   "cell_type": "markdown",
   "metadata": {},
   "source": [
    "We can also use the head/tail command to return only a few rows of a dataframe."
   ]
  },
  {
   "cell_type": "code",
   "execution_count": null,
   "metadata": {},
   "outputs": [],
   "source": [
    "mottos.head(5)\n",
    "mottos.tail(5)"
   ]
  },
  {
   "cell_type": "code",
   "execution_count": null,
   "metadata": {},
   "outputs": [],
   "source": [
    "elections.set_index(\"Year\")"
   ]
  },
  {
   "cell_type": "markdown",
   "metadata": {},
   "source": [
    "What happens here?"
   ]
  },
  {
   "cell_type": "code",
   "execution_count": null,
   "metadata": {},
   "outputs": [],
   "source": [
    "elections.set_index(\"Year\").loc[2020]"
   ]
  },
  {
   "cell_type": "markdown",
   "metadata": {},
   "source": [
    "Or the tail command to get the last so many rows."
   ]
  },
  {
   "cell_type": "code",
   "execution_count": null,
   "metadata": {},
   "outputs": [],
   "source": [
    "elections.tail(5)"
   ]
  },
  {
   "cell_type": "markdown",
   "metadata": {},
   "source": [
    "If we want a subset of the columns, we can also use loc just to ask for those."
   ]
  },
  {
   "cell_type": "code",
   "execution_count": null,
   "metadata": {},
   "outputs": [],
   "source": [
    "elections.loc[0:4, \"Year\":\"Party\"]"
   ]
  },
  {
   "cell_type": "code",
   "execution_count": null,
   "metadata": {},
   "outputs": [],
   "source": [
    "#elections[0]"
   ]
  },
  {
   "cell_type": "markdown",
   "metadata": {},
   "source": [
    "### loc"
   ]
  },
  {
   "cell_type": "markdown",
   "metadata": {},
   "source": [
    "loc selects items by row and column label."
   ]
  },
  {
   "cell_type": "code",
   "execution_count": null,
   "metadata": {},
   "outputs": [],
   "source": [
    "elections.loc[[87, 25, 179], [\"Year\", \"Candidate\", \"Result\"]]"
   ]
  },
  {
   "cell_type": "code",
   "execution_count": null,
   "metadata": {},
   "outputs": [],
   "source": [
    "elections.loc[[87, 25, 179], \"Popular vote\":\"%\"]"
   ]
  },
  {
   "cell_type": "code",
   "execution_count": null,
   "metadata": {},
   "outputs": [],
   "source": [
    "elections.loc[[87, 25, 179], \"Popular vote\"]"
   ]
  },
  {
   "cell_type": "code",
   "execution_count": null,
   "metadata": {},
   "outputs": [],
   "source": [
    "elections.loc[:, [\"Year\", \"Candidate\", \"Result\"]]"
   ]
  },
  {
   "cell_type": "markdown",
   "metadata": {},
   "source": [
    "### iloc"
   ]
  },
  {
   "cell_type": "markdown",
   "metadata": {},
   "source": [
    "iloc selects items by row and column number."
   ]
  },
  {
   "cell_type": "code",
   "execution_count": null,
   "metadata": {},
   "outputs": [],
   "source": [
    "elections.iloc[[1, 2, 3], [0, 1, 2]]"
   ]
  },
  {
   "cell_type": "code",
   "execution_count": null,
   "metadata": {},
   "outputs": [],
   "source": [
    "elections.iloc[[1, 2, 3], 0:2]"
   ]
  },
  {
   "cell_type": "code",
   "execution_count": null,
   "metadata": {},
   "outputs": [],
   "source": [
    "elections.iloc[[1, 2, 3], 1]"
   ]
  },
  {
   "cell_type": "code",
   "execution_count": null,
   "metadata": {},
   "outputs": [],
   "source": [
    "elections.iloc[:, [0, 1, 4]]"
   ]
  },
  {
   "cell_type": "markdown",
   "metadata": {},
   "source": [
    "### []"
   ]
  },
  {
   "cell_type": "markdown",
   "metadata": {},
   "source": [
    "We could technically do anything we want using `loc` or `iloc`. However, in practice, the `[]` operator is often used instead to yield more concise code.\n",
    "\n",
    "`[]` is a bit trickier to understand than `loc` or `iloc`, but it does essentially the same thing."
   ]
  },
  {
   "cell_type": "markdown",
   "metadata": {},
   "source": [
    "If we provide a slice of row numbers, we get the numbered rows."
   ]
  },
  {
   "cell_type": "code",
   "execution_count": null,
   "metadata": {},
   "outputs": [],
   "source": [
    "elections[3:7]"
   ]
  },
  {
   "cell_type": "markdown",
   "metadata": {},
   "source": [
    "If we provide a list of column names, we get the listed columns."
   ]
  },
  {
   "cell_type": "code",
   "execution_count": null,
   "metadata": {},
   "outputs": [],
   "source": [
    "elections[[\"Year\", \"Candidate\", \"Result\"]].tail(5)"
   ]
  },
  {
   "cell_type": "markdown",
   "metadata": {},
   "source": [
    "And if we provide a single column name we get back just that column."
   ]
  },
  {
   "cell_type": "code",
   "execution_count": null,
   "metadata": {},
   "outputs": [],
   "source": [
    "elections[\"Candidate\"].tail(5)"
   ]
  },
  {
   "cell_type": "markdown",
   "metadata": {},
   "source": [
    "#### A little annoying puzzle"
   ]
  },
  {
   "cell_type": "code",
   "execution_count": null,
   "metadata": {},
   "outputs": [],
   "source": [
    "weird = pd.DataFrame({\n",
    "    1:[\"topdog\",\"botdog\"],\n",
    "    \"1\":[\"topcat\",\"botcat\"]\n",
    "})\n",
    "weird"
   ]
  },
  {
   "cell_type": "code",
   "execution_count": null,
   "metadata": {},
   "outputs": [],
   "source": [
    "weird[1] #try to predict the output"
   ]
  },
  {
   "cell_type": "code",
   "execution_count": null,
   "metadata": {},
   "outputs": [],
   "source": [
    "weird[\"1\"] #try to predict the output"
   ]
  },
  {
   "cell_type": "code",
   "execution_count": null,
   "metadata": {},
   "outputs": [],
   "source": [
    "weird[1:] #try to predict the output"
   ]
  },
  {
   "cell_type": "markdown",
   "metadata": {},
   "source": [
    "## Pandas Datastructures: DataFrames, Series, and Indices"
   ]
  },
  {
   "cell_type": "code",
   "execution_count": null,
   "metadata": {},
   "outputs": [],
   "source": [
    "type(elections)"
   ]
  },
  {
   "cell_type": "code",
   "execution_count": null,
   "metadata": {},
   "outputs": [],
   "source": [
    "type(elections[\"Candidate\"])"
   ]
  },
  {
   "cell_type": "code",
   "execution_count": null,
   "metadata": {},
   "outputs": [],
   "source": [
    "mottos = pd.read_csv(\"mottos.csv\", index_col = \"State\")\n",
    "mottos.loc[\"California\":\"Illinois\"]"
   ]
  },
  {
   "cell_type": "code",
   "execution_count": null,
   "metadata": {},
   "outputs": [],
   "source": [
    "elections[\"Candidate\"].tail(5).to_frame()"
   ]
  },
  {
   "cell_type": "code",
   "execution_count": null,
   "metadata": {},
   "outputs": [],
   "source": [
    "elections[[\"Candidate\"]].tail(5)"
   ]
  },
  {
   "cell_type": "code",
   "execution_count": null,
   "metadata": {},
   "outputs": [],
   "source": [
    "mottos.index"
   ]
  },
  {
   "cell_type": "code",
   "execution_count": null,
   "metadata": {},
   "outputs": [],
   "source": [
    "mottos.columns"
   ]
  },
  {
   "cell_type": "markdown",
   "metadata": {},
   "source": [
    "## Conditional Selection"
   ]
  },
  {
   "cell_type": "code",
   "execution_count": null,
   "metadata": {},
   "outputs": [],
   "source": [
    "elections[elections[\"Party\"] == \"Independent\"]"
   ]
  },
  {
   "cell_type": "code",
   "execution_count": null,
   "metadata": {},
   "outputs": [],
   "source": [
    "elections[\"Party\"] == \"Independent\""
   ]
  },
  {
   "cell_type": "markdown",
   "metadata": {},
   "source": [
    "Boolean array selection also works with `loc`!"
   ]
  },
  {
   "cell_type": "code",
   "execution_count": null,
   "metadata": {},
   "outputs": [],
   "source": [
    "elections.loc[elections[\"Party\"] == \"Independent\"]"
   ]
  },
  {
   "cell_type": "code",
   "execution_count": null,
   "metadata": {},
   "outputs": [],
   "source": [
    "elections[(elections[\"Result\"] == \"win\") & (elections[\"%\"] < 47)]"
   ]
  },
  {
   "cell_type": "code",
   "execution_count": null,
   "metadata": {},
   "outputs": [],
   "source": [
    "elections[[True]*len(elections)]"
   ]
  },
  {
   "cell_type": "markdown",
   "metadata": {},
   "source": [
    "### An annoying puzzle"
   ]
  },
  {
   "cell_type": "code",
   "execution_count": null,
   "metadata": {},
   "outputs": [],
   "source": [
    "elections2 = pd.read_csv(\"annoying_puzzle2.csv\")\n",
    "elections2"
   ]
  },
  {
   "cell_type": "code",
   "execution_count": null,
   "metadata": {},
   "outputs": [],
   "source": [
    "# Which of the following yield a DataFrame of the first 3 Candidate names only for candidates that won with more than 50% of the vote?\n",
    "elections2.iloc[[0, 3, 5], [0, 3]]\n",
    "elections2.loc[[0, 3, 5], \"Candidate\":\"Year\"]\n",
    "elections2.loc[elections2[\"%\"] > 50, [\"Candidate\", \"Year\"]].head(3)\n",
    "elections2.loc[elections2[\"%\"] > 50, [\"Candidate\", \"Year\"]].iloc[0:2, :]"
   ]
  },
  {
   "cell_type": "code",
   "execution_count": null,
   "metadata": {},
   "outputs": [],
   "source": [
    "elections2 = elections[(elections[\"Year\"] == 1980) | (elections[\"Year\"] == 1984) | (elections[\"Year\"] == 1988)]\n",
    "elections2"
   ]
  },
  {
   "cell_type": "code",
   "execution_count": null,
   "metadata": {},
   "outputs": [],
   "source": [
    "(\n",
    "    elections[(elections[\"Party\"] == \"Anti-Masonic\")  |\n",
    "              (elections[\"Party\"] == \"American\")      |\n",
    "              (elections[\"Party\"] == \"Anti-Monopoly\") |\n",
    "              (elections[\"Party\"] == \"American Independent\")]\n",
    ")\n",
    "#Note: The parentheses surrounding the code make it possible to break the code on to multiple lines for readability"
   ]
  },
  {
   "cell_type": "code",
   "execution_count": null,
   "metadata": {},
   "outputs": [],
   "source": [
    "a_parties = [\"Anti-Masonic\", \"American\", \"Anti-Monopoly\", \"American Independent\"]\n",
    "elections[elections[\"Party\"].isin(a_parties)]"
   ]
  },
  {
   "cell_type": "code",
   "execution_count": null,
   "metadata": {},
   "outputs": [],
   "source": [
    "elections[elections[\"Party\"].str.startswith(\"A\")]"
   ]
  },
  {
   "cell_type": "code",
   "execution_count": null,
   "metadata": {},
   "outputs": [],
   "source": [
    "elections.query('Year >= 2000 and Result == \"win\"')"
   ]
  },
  {
   "cell_type": "code",
   "execution_count": null,
   "metadata": {},
   "outputs": [],
   "source": [
    "parties = [\"Republican\", \"Democratic\"]\n",
    "elections.query('Result == \"win\" and Party not in @parties')"
   ]
  },
  {
   "cell_type": "markdown",
   "metadata": {},
   "source": [
    "## Built In Functions"
   ]
  },
  {
   "cell_type": "code",
   "execution_count": null,
   "metadata": {},
   "outputs": [],
   "source": [
    "winners = elections.query('Result == \"win\"')[\"%\"]\n",
    "winners.head(5)"
   ]
  },
  {
   "cell_type": "code",
   "execution_count": null,
   "metadata": {},
   "outputs": [],
   "source": [
    "np.mean(winners)"
   ]
  },
  {
   "cell_type": "code",
   "execution_count": null,
   "metadata": {},
   "outputs": [],
   "source": [
    "max(winners)"
   ]
  },
  {
   "cell_type": "code",
   "execution_count": null,
   "metadata": {},
   "outputs": [],
   "source": [
    "elections"
   ]
  },
  {
   "cell_type": "code",
   "execution_count": null,
   "metadata": {},
   "outputs": [],
   "source": [
    "elections.size"
   ]
  },
  {
   "cell_type": "code",
   "execution_count": null,
   "metadata": {},
   "outputs": [],
   "source": [
    "elections.shape"
   ]
  },
  {
   "cell_type": "code",
   "execution_count": null,
   "metadata": {},
   "outputs": [],
   "source": [
    "elections.describe()"
   ]
  },
  {
   "cell_type": "code",
   "execution_count": null,
   "metadata": {},
   "outputs": [],
   "source": [
    "elections.sample(5).iloc[:, 0:2]"
   ]
  },
  {
   "cell_type": "code",
   "execution_count": null,
   "metadata": {},
   "outputs": [],
   "source": [
    "elections.query('Year == 2000').sample(4, replace = True).iloc[:, 0:2]"
   ]
  },
  {
   "cell_type": "code",
   "execution_count": null,
   "metadata": {},
   "outputs": [],
   "source": [
    "elections[\"Candidate\"].value_counts()"
   ]
  },
  {
   "cell_type": "code",
   "execution_count": null,
   "metadata": {},
   "outputs": [],
   "source": [
    "elections[\"Party\"].unique()"
   ]
  },
  {
   "cell_type": "code",
   "execution_count": null,
   "metadata": {},
   "outputs": [],
   "source": [
    "elections[\"Candidate\"].sort_values()"
   ]
  },
  {
   "cell_type": "code",
   "execution_count": null,
   "metadata": {},
   "outputs": [],
   "source": [
    "elections.sort_values(\"%\", ascending = False)"
   ]
  },
  {
   "cell_type": "markdown",
   "metadata": {
    "id": "CayfoF14vMqO"
   },
   "source": [
    "Note: Plese see pandas [user guide](https://pandas.pydata.org/docs/user_guide/index.html) for more functions. "
   ]
  },
  {
   "cell_type": "markdown",
   "metadata": {
    "id": "NxVdJ-L7vdaj"
   },
   "source": [
    "# 04 Matplotlib\n",
    "[Matplotlib](https://matplotlib.org/) is a library used to visualize data"
   ]
  },
  {
   "cell_type": "code",
   "execution_count": null,
   "metadata": {
    "colab": {
     "base_uri": "https://localhost:8080/",
     "height": 299
    },
    "id": "wrayA_QBK7_F",
    "outputId": "e347832a-0fd9-490b-862c-401216f4120e"
   },
   "outputs": [],
   "source": [
    "import matplotlib.pyplot as plt\n",
    "\n",
    "# basic plotting (show scatter and plot)\n",
    "xs = np.arange(10)\n",
    "ys = xs ** 2\n",
    "plt.scatter(xs, ys)\n",
    "plt.plot(xs, ys)\n",
    "\n",
    "# ALWAYS label your plots!\n",
    "plt.title('plot of $x^2$ vs $x$')\n",
    "plt.xlabel('$x$')\n",
    "plt.ylabel('$x^2$')\n",
    "plt.show()"
   ]
  },
  {
   "cell_type": "markdown",
   "metadata": {
    "id": "G5gLbaIOLRJt"
   },
   "source": [
    "##Subplots\n",
    "You can plot different things in the same figure using the subplot function. Here is an example:"
   ]
  },
  {
   "cell_type": "code",
   "execution_count": null,
   "metadata": {
    "colab": {
     "base_uri": "https://localhost:8080/",
     "height": 281
    },
    "id": "1enai-07LPwk",
    "outputId": "9f01e70b-62ec-4dea-d27c-73170d0c4c5d"
   },
   "outputs": [],
   "source": [
    "# Compute the x and y coordinates for points on sine and cosine curves\n",
    "x = np.arange(0, 3 * np.pi, 0.1)\n",
    "y_sin = np.sin(x)\n",
    "y_cos = np.cos(x)\n",
    "\n",
    "# Set up a subplot grid that has height 2 and width 1,\n",
    "# and set the first such subplot as active.\n",
    "plt.subplot(2, 1, 1)\n",
    "\n",
    "# Make the first plot\n",
    "plt.plot(x, y_sin)\n",
    "plt.title('Sine')\n",
    "\n",
    "# Set the second subplot as active, and make the second plot.\n",
    "plt.subplot(2, 1, 2)\n",
    "plt.plot(x, y_cos)\n",
    "plt.title('Cosine')\n",
    "\n",
    "# Show the figure.\n",
    "plt.show()"
   ]
  },
  {
   "cell_type": "markdown",
   "metadata": {
    "id": "j8dUy6DhLgCJ"
   },
   "source": [
    "# 05 Probability  \n",
    "\n",
    "Probability theory is a mathematical framework for representing uncertain statements. \n",
    "\n",
    "A random variable is a variable that can take on different values randomly. There are two types of random variables, discrete and continuous.\n",
    "\n",
    "**Discrete variable**: numeric variables that have a countable number of values between any two values\n",
    "\n",
    "**Continuous variable**: takes an infinite number of possible values"
   ]
  },
  {
   "cell_type": "markdown",
   "metadata": {
    "id": "DP02KRRvQTf3"
   },
   "source": [
    "## Probability distribution\n",
    "In mathematics, especially in probability theory and statistics, probability distribution represents the values of a variable that holds the probabilities of an experiment. The way we describe probability distributions depends on whether the variables are discrete or continuous."
   ]
  },
  {
   "cell_type": "markdown",
   "metadata": {
    "id": "oKj6TXAgRJ5Z"
   },
   "source": [
    "### Discrete Variables and Probability Mass functions\n",
    "\n",
    "A probability distribution over discrete variables may be described using a __probability mass function (PMF)__. A probability mass function maps from a state of a random variable to the probability of that random variable taking on that state.\n",
    "\n",
    "We denote probability mass functions with $P$, where we denote a __PMF__ equation as $P(X = x)$. Here $x$ can be a number on the dice when $X$ is the event of rolling the dice."
   ]
  },
  {
   "cell_type": "code",
   "execution_count": null,
   "metadata": {
    "colab": {
     "base_uri": "https://localhost:8080/",
     "height": 283
    },
    "id": "OlZcresXRgCv",
    "outputId": "067c80e5-8861-4f79-c0a8-76efa9579955"
   },
   "outputs": [],
   "source": [
    "import os\n",
    "import random\n",
    "import sys\n",
    "\n",
    "from collections import defaultdict\n",
    "\n",
    "def single_dice(x, sides, rolls):   \n",
    "    result = roll(sides, rolls)\n",
    "    for i in range(1, sides +1):\n",
    "        plt.bar(i, result[i] / rolls)\n",
    "    print(\"P(X = {}) = {}%\".format(x, np.divide(np.multiply(result[x], 100), rolls)))\n",
    "\n",
    "def roll(sides, rolls):   \n",
    "    d = defaultdict(int)                    \n",
    "    for _ in range(rolls):\n",
    "        d[random.randint(1, sides)] += 1    # The random process\n",
    "    return d\n",
    "\n",
    "\n",
    "single_dice(x=6, sides=6, rolls=10000)"
   ]
  },
  {
   "cell_type": "markdown",
   "metadata": {
    "id": "7gMgqpxISFvk"
   },
   "source": [
    "### Continuous Variables and Probability Density Functions\n",
    "When working with continuous random variables, we describe probability distributions using a __probability density function (PDF)__. "
   ]
  },
  {
   "cell_type": "code",
   "execution_count": null,
   "metadata": {
    "id": "VFP7M1ekOfMI"
   },
   "outputs": [],
   "source": [
    "# import seaborn\n",
    "import seaborn as sns\n",
    "# settings for seaborn plotting style\n",
    "sns.set_theme(color_codes=True)\n",
    "# settings for seaborn plot sizes\n",
    "sns.set(rc={'figure.figsize':(5,5)})"
   ]
  },
  {
   "cell_type": "code",
   "execution_count": null,
   "metadata": {
    "id": "g0bvGizOOYWy"
   },
   "outputs": [],
   "source": [
    "# import uniform distribution\n",
    "from scipy.stats import uniform\n",
    "\n",
    "# random numbers from uniform distribution\n",
    "n = 10000\n",
    "start = 10\n",
    "width = 20\n",
    "data_uniform = uniform.rvs(size=n, loc = start, scale=width)"
   ]
  },
  {
   "cell_type": "code",
   "execution_count": null,
   "metadata": {
    "colab": {
     "base_uri": "https://localhost:8080/",
     "height": 413
    },
    "id": "bNtwK-eFOhJL",
    "outputId": "5ebe78e9-836f-4a3e-c5c6-9c034b879216"
   },
   "outputs": [],
   "source": [
    "ax = sns.histplot(data_uniform,\n",
    "                  bins=10,\n",
    "                  kde=True,\n",
    "                  color='skyblue',\n",
    "                  line_kws={\"linewidth\": 15,'alpha':1})\n",
    "ax.set(xlabel='Uniform Distribution ', ylabel='Frequency')"
   ]
  },
  {
   "cell_type": "markdown",
   "metadata": {
    "id": "d_4Pib8vPIkq"
   },
   "source": [
    "## Conditional Probability\n",
    "In probability theory, conditional probability is a measure of the probability of an event occurring, given that another event (by assumption, presumption, assertion or evidence) has already occurred\n",
    "\n",
    "$$\\color{blue}{P(\\mathrm{x} = x \\ | \\ \\mathrm{y} = y) = \\frac{P(\\mathrm{x} = x, \\mathrm{y} = y)}{P(\\mathrm{y} = y)} \\tag{1}}$$\n",
    "\n",
    "Example: Suppose we send out a survey to 300 individuals asking them which sport they like best: baseball, basketball, football, or soccer. What is the probability that an individual is male(female), given that they prefer baseball as their favorite sport"
   ]
  },
  {
   "cell_type": "code",
   "execution_count": null,
   "metadata": {
    "id": "uXdvem61U4-V"
   },
   "outputs": [],
   "source": [
    "# create pandas DataFrame with raw data\n",
    "df = pd.DataFrame({'gender': np.repeat(np.array(['Male', 'Female']), 150),\n",
    "                   'sport': np.repeat(np.array(['Baseball', 'Basketball', 'Football',\n",
    "                                                'Soccer', 'Baseball', 'Basketball',\n",
    "                                                'Football', 'Soccer']), \n",
    "                                    (34, 40, 58, 18, 34, 52, 20, 44))})"
   ]
  },
  {
   "cell_type": "code",
   "execution_count": null,
   "metadata": {
    "colab": {
     "base_uri": "https://localhost:8080/",
     "height": 175
    },
    "id": "9_mZYCEnU-af",
    "outputId": "75b541c5-a5a5-4af5-e272-8c494eb65624"
   },
   "outputs": [],
   "source": [
    "survey_data = pd.crosstab(index=df['gender'], columns=df['sport'], margins=True)\n",
    "survey_data"
   ]
  },
  {
   "cell_type": "code",
   "execution_count": null,
   "metadata": {
    "colab": {
     "base_uri": "https://localhost:8080/"
    },
    "id": "EDtf0wVaVO_F",
    "outputId": "63ef7889-1279-4919-ce8b-a75cc4effc9d"
   },
   "outputs": [],
   "source": [
    "# Calculate probability of being male, given that individual prefers baseball\n",
    "survey_data.iloc[1, 0] / survey_data.iloc[2, 0]"
   ]
  },
  {
   "cell_type": "code",
   "execution_count": null,
   "metadata": {
    "colab": {
     "base_uri": "https://localhost:8080/"
    },
    "id": "iUJA-IR5VRk-",
    "outputId": "598df9ef-9640-4dd0-b249-76acba3dae48"
   },
   "outputs": [],
   "source": [
    "# Calculate probability of preferring basketball, given that individual is female\n",
    "survey_data.iloc[0, 1] / survey_data.iloc[0, 4]"
   ]
  },
  {
   "cell_type": "markdown",
   "metadata": {
    "id": "WkrlLxmBVj9H"
   },
   "source": [
    "## Expectation, Variance and Covariance\n",
    "The __expectation__, or __expected value__, of some function $f(x)$ with respect to a probability distribution $P(x)$ is the average, or mean value, that $f$ takes on when $x$ is drawn from $P$. For discrete variables this can be computed with a summation:\n",
    "\n",
    "$$\\color{blue}{\\mathbb{E}_{x \\sim P} [f(x)] = \\displaystyle\\sum_{x} P(x) f(x) \\tag{2}}$$"
   ]
  },
  {
   "cell_type": "code",
   "execution_count": null,
   "metadata": {
    "colab": {
     "base_uri": "https://localhost:8080/"
    },
    "id": "lYrSW6NXVy6H",
    "outputId": "ebb7c02d-0bf7-41e0-86ba-debce3b629ac"
   },
   "outputs": [],
   "source": [
    "# Example\n",
    "\n",
    "a = [-1, -1, -1, 0, 0, 4, 4]           \n",
    "b = [1/6.]*6                              \n",
    "  \n",
    "expectation = 0\n",
    "for i in range(0, len(b)):\n",
    "    expectation += (b[i] * a[i])    # summing p(x) * f(x)\n",
    "\n",
    "# Calculate the expectation   \n",
    "print( \"Expectation of the a E(X) is : {:.4}\".format(expectation)) "
   ]
  },
  {
   "cell_type": "markdown",
   "metadata": {
    "id": "NpJoeJ2CWWkX"
   },
   "source": [
    "For continuous variables, it is computed with an integral:\n",
    "\n",
    "$$\\color{blue}{\\mathbb{E}_{x \\sim P} [f(x)] = \\int p(x) f(x) dx \\tag{3}}$$\n",
    "\n",
    "__Variance__ is the expectation of the squared deviation of a random variable from its population mean or sample mean:\n",
    "\n",
    "$$\\color{blue}{Var(f(x)) = \\mathbb{E} \\Big[ (f(x) - \\mathbb{E}[f(x)])^2 \\Big] \\tag{4}}$$"
   ]
  },
  {
   "cell_type": "code",
   "execution_count": null,
   "metadata": {
    "colab": {
     "base_uri": "https://localhost:8080/"
    },
    "id": "FRcpZ66vYCQn",
    "outputId": "b5dd0894-5bfc-4175-c239-f3eeefc6325f"
   },
   "outputs": [],
   "source": [
    "a = np.array([[1, 2], [3, 4]])\n",
    "np.var(a)"
   ]
  },
  {
   "cell_type": "markdown",
   "metadata": {
    "id": "CYy_Nu-JYuZE"
   },
   "source": [
    "**Covariance** measures the direction of the relationship between two variables.\n",
    "$$\\color{blue}{Cov(f(x), g(y)) = \\mathbb{E} \\big[ (f(x) - \\mathbb{E}[f(x)]) (g(y) - \\mathbb{E}[g(y)]) \\big] \\tag{5}}$$"
   ]
  },
  {
   "cell_type": "code",
   "execution_count": null,
   "metadata": {
    "colab": {
     "base_uri": "https://localhost:8080/"
    },
    "id": "iu9JqSTMZUIl",
    "outputId": "7be2100c-8cfa-47d7-9ea1-012c83c5f1ea"
   },
   "outputs": [],
   "source": [
    "x = np.array([[0, 2], [1, 1], [2, 0]]).T\n",
    "np.cov(x)"
   ]
  },
  {
   "cell_type": "code",
   "execution_count": null,
   "metadata": {
    "colab": {
     "base_uri": "https://localhost:8080/"
    },
    "id": "94tRw2j3ZpFs",
    "outputId": "5c013dd9-8755-4cee-de46-93101d509d8e"
   },
   "outputs": [],
   "source": [
    "x = [-2.1, -1,  4.3]\n",
    "y = [3,  1.1,  0.12]\n",
    "X = np.stack((x, y), axis=0)\n",
    "\n",
    "np.cov(X)\n",
    "np.cov(x, y)\n",
    "np.cov(x)"
   ]
  },
  {
   "cell_type": "markdown",
   "metadata": {
    "id": "CvGLUI0eZ8rO"
   },
   "source": [
    "## Common distributions\n"
   ]
  },
  {
   "cell_type": "markdown",
   "metadata": {
    "id": "0ajYIXDEaUWS"
   },
   "source": [
    "### Bernoulli Distribution\n",
    "\n",
    "The __Bernoulli distribution__ is a distribution over a single binary random variable."
   ]
  },
  {
   "cell_type": "code",
   "execution_count": null,
   "metadata": {
    "colab": {
     "base_uri": "https://localhost:8080/",
     "height": 468
    },
    "id": "yId92vAVa4jB",
    "outputId": "7e099634-a668-45eb-d776-5d55970480a2"
   },
   "outputs": [],
   "source": [
    "from scipy.stats import bernoulli\n",
    "#\n",
    "# Instance of Bernoulli distribution with parameter p = 0.7\n",
    "#\n",
    "bd = bernoulli(0.7)\n",
    "#\n",
    "# Outcome of experiment can take value as 0, 1\n",
    "#\n",
    "X = [0, 1]\n",
    "#\n",
    "# Create a bar plot; Note the usage of \"pmf\" function\n",
    "# to determine the probability of different values of\n",
    "# random variable\n",
    "#\n",
    "plt.figure(figsize=(7,7))\n",
    "plt.xlim(-1, 2)\n",
    "plt.bar(X, bd.pmf(X), color='orange')\n",
    "plt.title('Bernoulli Distribution (p=0.7)', fontsize='15')\n",
    "plt.xlabel('Values of Random Variable X (0, 1)', fontsize='15')\n",
    "plt.ylabel('Probability', fontsize='15')\n",
    "plt.show()"
   ]
  },
  {
   "cell_type": "markdown",
   "metadata": {
    "id": "r0JGVJBddRZy"
   },
   "source": [
    "### Gaussian(Normal) Distribution\n",
    "\n",
    "It is the most important probability distribution function used in statistics because of its advantages in real case scenarios.\n",
    "$$\\color{blue}{\\mathcal{N}(x; \\mu, \\sigma^2) = \\sqrt{\\frac{1}{2 \\pi \\sigma^2}} exp \\Big(- \\frac{1}{2 \\sigma^2} (x - \\mu)^2 \\Big) \\tag{6}}$$"
   ]
  },
  {
   "cell_type": "code",
   "execution_count": null,
   "metadata": {
    "colab": {
     "base_uri": "https://localhost:8080/",
     "height": 322
    },
    "id": "9Lh2cWOld6xT",
    "outputId": "f857ad52-216c-4f6b-af8b-e3906698411f"
   },
   "outputs": [],
   "source": [
    "import scipy.stats as stats\n",
    "import math\n",
    "\n",
    "mu = 0\n",
    "variance = 1\n",
    "sigma = math.sqrt(variance)\n",
    "x = np.linspace(mu - 3*sigma, mu + 3*sigma, 100)\n",
    "plt.plot(x, stats.norm.pdf(x, mu, sigma))\n",
    "plt.show()"
   ]
  },
  {
   "cell_type": "markdown",
   "metadata": {
    "id": "7LitsY_JeD_y"
   },
   "source": [
    "### Mixtures Distributions\n",
    "A mixture distribution is made up of several component distributions."
   ]
  },
  {
   "cell_type": "code",
   "execution_count": null,
   "metadata": {
    "colab": {
     "base_uri": "https://localhost:8080/",
     "height": 322
    },
    "id": "PKpzV7lXeTLB",
    "outputId": "0e114261-84af-4be0-a0fe-e05b6662101d"
   },
   "outputs": [],
   "source": [
    "distributions = [\n",
    "    {\"type\": np.random.normal, \"kwargs\": {\"loc\": -3, \"scale\": 2}},\n",
    "    {\"type\": np.random.uniform, \"kwargs\": {\"low\": 4, \"high\": 6}},\n",
    "    {\"type\": np.random.normal, \"kwargs\": {\"loc\": 2, \"scale\": 1}},\n",
    "]\n",
    "coefficients = np.array([0.5, 0.2, 0.3])\n",
    "coefficients /= coefficients.sum()      # in case these did not add up to 1\n",
    "sample_size = 100000\n",
    "\n",
    "num_distr = len(distributions)\n",
    "data = np.zeros((sample_size, num_distr))\n",
    "for idx, distr in enumerate(distributions):\n",
    "    data[:, idx] = distr[\"type\"](size=(sample_size,), **distr[\"kwargs\"])\n",
    "random_idx = np.random.choice(np.arange(num_distr), size=(sample_size,), p=coefficients)\n",
    "sample = data[np.arange(sample_size), random_idx]\n",
    "plt.hist(sample, bins=100, density=True)\n",
    "plt.show()"
   ]
  },
  {
   "cell_type": "code",
   "execution_count": null,
   "metadata": {},
   "outputs": [],
   "source": []
  }
 ],
 "metadata": {
  "colab": {
   "collapsed_sections": [],
   "name": "CS412F22 - Tutorial.ipynb",
   "provenance": [],
   "toc_visible": true
  },
  "kernelspec": {
   "display_name": "Python 3 (ipykernel)",
   "language": "python",
   "name": "python3"
  },
  "language_info": {
   "codemirror_mode": {
    "name": "ipython",
    "version": 3
   },
   "file_extension": ".py",
   "mimetype": "text/x-python",
   "name": "python",
   "nbconvert_exporter": "python",
   "pygments_lexer": "ipython3",
   "version": "3.12.4"
  }
 },
 "nbformat": 4,
 "nbformat_minor": 1
}
